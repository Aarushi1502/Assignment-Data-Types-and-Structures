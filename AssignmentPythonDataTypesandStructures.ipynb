{
  "nbformat": 4,
  "nbformat_minor": 0,
  "metadata": {
    "colab": {
      "provenance": []
    },
    "kernelspec": {
      "name": "python3",
      "display_name": "Python 3"
    },
    "language_info": {
      "name": "python"
    }
  },
  "cells": [
    {
      "cell_type": "code",
      "execution_count": null,
      "metadata": {
        "id": "hI9rXa497tu8"
      },
      "outputs": [],
      "source": []
    },
    {
      "cell_type": "markdown",
      "source": [
        "#Data Structure Assignment\n",
        "\n",
        "1.  What are data structures, and why are they important?\n",
        "    - Data structures are organized ways to store and manage data for efficient access and modification. They are important because they optimize operations like searching, sorting, and data retrieval.\n",
        "  \n",
        "2. Explain the difference between mutable and immutable data types with examples.\n",
        "    - Mutable: Can be modified after creation (e.g., lists, dictionaries).\n",
        "          Example:lst = [1, 2, 3]\n",
        "                  lst[0] = 10\n",
        "                  print(lst)\n",
        "\n",
        "  - Immutable: Cannot be modified after creation (e.g., strings, tuples).\n",
        "          Example:tup = (1, 2, 3)\n",
        "                  tup[0] = 10  # Error: Tuples are immutable\n",
        "                \n",
        "3. What are the main differences between lists and tuples in Python?\n",
        "      - Lists: Mutable, slower, use more memory.\n",
        "        Tuples: Immutable, faster, use less memory.\n",
        "\n",
        "4. Describe how dictionaries store data.\n",
        "      - Dictionaries use hash tables to store key-value pairs. Each key is hashed to find its corresponding value, enabling fast lookups.\n",
        "\n",
        "5. Why might you use a set instead of a list in Python?\n",
        "      - Sets handle duplicate values automatically and offer faster membership testing (using the in keyword).\n",
        "\n",
        "6. What is a string in Python, and how is it different from a list?\n",
        "      - A string is a sequence of characters that is immutable, whereas a list is a sequence of elements that is mutable.\n",
        "\n",
        "7. How do tuples ensure data integrity in Python?\n",
        "    - Tuples are immutable, meaning their contents cannot be altered, ensuring the data remains consistent.\n",
        "\n",
        "8. What is a hash table, and how does it relate to dictionaries in Python?\n",
        "    - A hash table maps keys to values using a hash function. Python dictionaries are implemented using hash tables, allowing efficient key-based lookups.\n",
        "\n",
        "9. Can lists contain different data types in Python?\n",
        "      - Yes, lists can hold elements of different data types.\n",
        "            Example: mixed_list = [1, \"hello\", 3.14]\n",
        "\n",
        "10. Explain why strings are immutable in Python.\n",
        "    - Strings are immutable to ensure data integrity, optimize performance, and allow safe sharing across different parts of a program.\n",
        "\n",
        "11. What advantages do dictionaries offer over lists for certain tasks?\n",
        "      - Dictionaries provide faster lookups for key-value pairs compared to lists, especially for large datasets.\n",
        "\n",
        "12. Describe a scenario where using a tuple would be preferable over a list.\n",
        "    - When the data should not be changed, such as storing coordinates or configuration settings.\n",
        "\n",
        "13. How do sets handle duplicate values in Python?\n",
        "    - Sets automatically remove duplicate values.\n",
        "          Example: s = {1, 2, 2, 3}\n",
        "                   print(s)  # Output: {1, 2, 3}\n",
        "\n",
        "14. How does the in keyword work differently for lists and dictionaries?\n",
        "\n",
        "    - For lists, in checks if a value exists.\n",
        "                          \n",
        "      For dictionaries, in checks if a key exists.\n",
        "\n",
        "\n",
        "15. Can you modify the elements of a tuple? Explain why or why not.\n",
        "    - No, because tuples are immutable. Once created, their elements cannot be changed.\n",
        "\n",
        "16. What is a nested dictionary, and give an example of its use case.\n",
        "    - A nested dictionary is a dictionary within another dictionary.\n",
        "          Example: students = {\n",
        "                             \"Alice\": {\"age\": 25, \"grade\": \"A\"},\n",
        "                             \"Bob\": {\"age\": 22, \"grade\": \"B\"}\n",
        "                              }\n",
        "\n",
        "17. Describe the time complexity of accessing elements in a dictionary.\n",
        "  - Accessing an element by key has an average time complexity of\n",
        "O(1).\n",
        "\n",
        "18. In what situations are lists preferred over dictionaries?\n",
        "  - When order matters or the data is sequential and does not require key-based lookups.\n",
        "\n",
        "19. Why are dictionaries considered unordered, and how does that affect data retrieval?\n",
        "  - Dictionaries do not maintain insertion order. Retrieval is based on keys, not sequence.\n",
        "\n",
        "20. Explain the difference between a list and a dictionary in terms of data retrieval.\n",
        "  - Lists retrieve elements by index, whereas dictionaries retrieve elements by key.\n",
        "\n"
      ],
      "metadata": {
        "id": "NXfrLfRX77PG"
      }
    },
    {
      "cell_type": "code",
      "source": [
        "#1. Write a code to create a string with your name and print it\n",
        "name = \"Your Name\"\n",
        "print(name)"
      ],
      "metadata": {
        "id": "LQ8TigL_BuJq"
      },
      "execution_count": null,
      "outputs": []
    },
    {
      "cell_type": "code",
      "source": [
        "#2. Write a code to find the length of the string \"Hello World\".\n",
        "\n",
        "print(len(\"Hello World\"))  # Output: 11\n"
      ],
      "metadata": {
        "id": "PHEeDo9KCYsL"
      },
      "execution_count": null,
      "outputs": []
    },
    {
      "cell_type": "code",
      "source": [
        "#3. Write a code to slice the first 3 characters from the string \"Python Programming\".\n",
        "print(\"Python Programming\"[:3])"
      ],
      "metadata": {
        "id": "OTr_wcnbCwkM"
      },
      "execution_count": null,
      "outputs": []
    },
    {
      "cell_type": "code",
      "source": [
        "#4. Write a code to convert the string \"hello\" to uppercase.\n",
        "\n",
        "print(\"hello\".upper()) #outpuT: HELLO\n",
        "\"\"\"\n",
        "      OR\n",
        "    a= 'hello'\n",
        "    print(a.upper())\n",
        "\"\"\"\n"
      ],
      "metadata": {
        "id": "9gBqBdXjDEip"
      },
      "execution_count": null,
      "outputs": []
    },
    {
      "cell_type": "code",
      "source": [
        "#5. Write a code to replace the word \"apple\" with \"orange\" in the string \"I like apple\".\n",
        "str=\"I like apple\"\n",
        "print(str)\n",
        "str1 = str.replace(\"apple\",\"orange\")\n",
        "print(\"After Replacing Apple with Orange\")\n",
        "print(str1)"
      ],
      "metadata": {
        "id": "LtmezFyuDysG"
      },
      "execution_count": null,
      "outputs": []
    },
    {
      "cell_type": "code",
      "source": [
        "#6. Write a code to create a list with numbers 1 to 5 and print it.\n",
        "numbers = [1, 2, 3, 4, 5]\n",
        "print(numbers)"
      ],
      "metadata": {
        "id": "HkrID4jmFQ8J"
      },
      "execution_count": null,
      "outputs": []
    },
    {
      "cell_type": "code",
      "source": [
        "#7. Write a code to append the number 10 to the list [1, 2, 3, 4].\n",
        "\n",
        "lst = [1, 2, 3, 4]\n",
        "lst.append(10)\n",
        "print(lst)  # Output: [1, 2, 3, 4, 10]"
      ],
      "metadata": {
        "id": "IS3Y6yFtFdoF"
      },
      "execution_count": null,
      "outputs": []
    },
    {
      "cell_type": "code",
      "source": [
        "#8. Write a code to remove the number 3 from the list [1, 2, 3, 4, 5].\n",
        "\n",
        "lst = [1, 2, 3, 4, 5]\n",
        "lst.remove(3)\n",
        "print(lst)"
      ],
      "metadata": {
        "id": "4LfqSEDFFrAw"
      },
      "execution_count": null,
      "outputs": []
    },
    {
      "cell_type": "code",
      "source": [
        "#9. Write a code to access the second element in the list ['a', 'b', 'c', 'd'].\n",
        "lst = ['a', 'b', 'c', 'd']\n",
        "print(lst[1])"
      ],
      "metadata": {
        "id": "uqaHD61ZFz1o"
      },
      "execution_count": null,
      "outputs": []
    },
    {
      "cell_type": "code",
      "source": [
        "#10. Write a code to reverse the list [10, 20, 30, 40, 50].\n",
        "\n",
        "lst = [10, 20, 30, 40, 50]\n",
        "lst.reverse()\n",
        "print(lst)"
      ],
      "metadata": {
        "id": "chUo4IeJGAXL"
      },
      "execution_count": null,
      "outputs": []
    },
    {
      "cell_type": "code",
      "source": [
        "#11. Write a code to create a tuple with the elements 10, 20, 30 and print it.\n",
        "\n",
        "tup = (10, 20, 30)\n",
        "print(tup)"
      ],
      "metadata": {
        "id": "HXDdFND0GPEz"
      },
      "execution_count": null,
      "outputs": []
    },
    {
      "cell_type": "code",
      "source": [
        "#12. Write a code to access the first element of the tuple ('apple', 'banana', 'cherry').\n",
        "\n",
        "tup = ('apple', 'banana', 'cherry')\n",
        "print(tup[0])  # Output: apple"
      ],
      "metadata": {
        "id": "KazjR16KGbMn"
      },
      "execution_count": null,
      "outputs": []
    },
    {
      "cell_type": "code",
      "source": [
        "#13. Write a code to count how many times the number 2 appears in the tuple (1, 2, 3, 2, 4, 2).\n",
        "\n",
        "tup = (1, 2, 3, 2, 4, 2)\n",
        "print(tup.count(2))  # Output: 3"
      ],
      "metadata": {
        "id": "ElJgjJ3EGpRA"
      },
      "execution_count": null,
      "outputs": []
    },
    {
      "cell_type": "code",
      "source": [
        "#14. Write a code to find the index of the element \"cat\" in the tuple ('dog', 'cat', 'rabbit').\n",
        "\n",
        "tup = ('dog', 'cat', 'rabbit')\n",
        "print(tup.index('cat'))\n"
      ],
      "metadata": {
        "id": "xp1v3seTHJNf"
      },
      "execution_count": null,
      "outputs": []
    },
    {
      "cell_type": "code",
      "source": [
        "#15. Write a code to check if the element \"banana\" is in the tuple ('apple', 'orange', 'banana').\n",
        "\n",
        "tup = ('apple', 'orange', 'banana')\n",
        "print('banana' in tup)  # Output: True"
      ],
      "metadata": {
        "id": "v8NDUrbCHYBH"
      },
      "execution_count": null,
      "outputs": []
    },
    {
      "cell_type": "code",
      "source": [
        "#16. Write a code to create a set with the elements 1, 2, 3, 4, 5 and print it.\n",
        "\n",
        "s = {1, 2, 3, 4, 5}\n",
        "print(s)"
      ],
      "metadata": {
        "id": "gZNBGp6tHmOm"
      },
      "execution_count": null,
      "outputs": []
    },
    {
      "cell_type": "code",
      "source": [
        "#17. Write a code to add the element 6 to the set {1, 2, 3, 4}.\n",
        "\n",
        "s = {1, 2, 3, 4}\n",
        "s.add(6)\n",
        "print(s)  # Output: {1, 2, 3, 4, 6}"
      ],
      "metadata": {
        "id": "PYkr9ItZHyBu"
      },
      "execution_count": null,
      "outputs": []
    },
    {
      "cell_type": "markdown",
      "source": [
        "## Since Question No. 11 and 18 are Same\n",
        "## Since Question No. 12 and 19 are Same\n",
        "## Since Question No. 14 and 21 are Same\n",
        "## Since Question No. 13 and 20 are Same\n",
        "## Since Question No. 15 and 22 are Same\n",
        "## Since Question No. 16 and 23 are Same\n",
        "## Since Question No. 17 and 24 are Same\n",
        "\n",
        "\n",
        "#Therefore only 17 Programs have been done because after 17th questions all the questions are repetitive."
      ],
      "metadata": {
        "id": "lcmNpxwDJrFv"
      }
    }
  ]
}